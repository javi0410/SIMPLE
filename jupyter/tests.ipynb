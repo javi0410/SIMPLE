{
 "cells": [
  {
   "cell_type": "code",
   "execution_count": 1,
   "metadata": {},
   "outputs": [],
   "source": [
    "import numpy as np"
   ]
  },
  {
   "cell_type": "code",
   "execution_count": 4,
   "metadata": {},
   "outputs": [
    {
     "data": {
      "text/plain": [
       "array([[1, 2, 3],\n",
       "       [4, 5, 6],\n",
       "       [7, 8, 9]])"
      ]
     },
     "execution_count": 4,
     "metadata": {},
     "output_type": "execute_result"
    }
   ],
   "source": [
    "a = np.array([1,2,3,4,5,6,7,8,9]).reshape((3,3))\n",
    "a"
   ]
  },
  {
   "cell_type": "code",
   "execution_count": 5,
   "metadata": {},
   "outputs": [
    {
     "ename": "IndexError",
     "evalue": "index 3 is out of bounds for axis 0 with size 3",
     "output_type": "error",
     "traceback": [
      "\u001b[1;31m---------------------------------------------------------------------------\u001b[0m",
      "\u001b[1;31mIndexError\u001b[0m                                Traceback (most recent call last)",
      "\u001b[1;32m<ipython-input-5-e1acb2ab431a>\u001b[0m in \u001b[0;36m<module>\u001b[1;34m\u001b[0m\n\u001b[1;32m----> 1\u001b[1;33m \u001b[0ma\u001b[0m\u001b[1;33m[\u001b[0m\u001b[1;36m3\u001b[0m\u001b[1;33m,\u001b[0m\u001b[1;36m3\u001b[0m\u001b[1;33m]\u001b[0m\u001b[1;33m\u001b[0m\u001b[1;33m\u001b[0m\u001b[0m\n\u001b[0m",
      "\u001b[1;31mIndexError\u001b[0m: index 3 is out of bounds for axis 0 with size 3"
     ]
    }
   ],
   "source": []
  },
  {
   "cell_type": "code",
   "execution_count": 6,
   "metadata": {},
   "outputs": [],
   "source": [
    "simple_pieces = [[0, 1, np.array([[0, 0]])],\n",
    "                 [1, 2, np.array([[0, 0], [1, 0]])],\n",
    "                 [2, 2, np.array([[0, 0], [0, 1]])],\n",
    "                 [3, 3, np.array([[0, 0], [1, 0], [2, 0]])],\n",
    "                 [4, 3, np.array([[0, 0], [0, 1], [0, 2]])],\n",
    "                 [5, 4, np.array([[0, 0], [1, 0], [1, 1]])],\n",
    "                 [6, 4, np.array([[0, 0], [1, 0], [0, 1]])],\n",
    "                 [7, 4, np.array([[0, 0], [0, 1], [1, 1]])],\n",
    "                 [8, 4, np.array([[0, 0], [1, 0], [1, -1]])],\n",
    "                 [9, 5, np.array([[0, 0], [1, 0], [2, 0], [3, 0]])],\n",
    "                 [10, 5, np.array([[0, 0], [0, 1], [0, 2], [0, 3]])],\n",
    "                 [11, 6, np.array([[0, 0], [1, 0], [2, 0], [2, -1]])],\n",
    "                 [12, 6, np.array([[0, 0], [1, 0], [1, 1], [1, 2]])],\n",
    "                 [13, 6, np.array([[0, 0], [0, 1], [1, 0], [2, 0]])],\n",
    "                 [14, 6, np.array([[0, 0], [0, 1], [0, 2], [1, 2]])],\n",
    "                 [15, 7, np.array([[0, 0], [1, 0], [1, 1], [2, 0]])],\n",
    "                 [16, 7, np.array([[0, 0], [0, 1], [1, 1], [0, 2]])],\n",
    "                 [17, 7, np.array([[0, 0], [1, 0], [1, -1], [2, 0]])],\n",
    "                 [18, 7, np.array([[0, 0], [0, 1], [-1, 1], [0, 2]])],\n",
    "                 [19, 8, np.array([[0, 0], [1, 0], [1, 1], [0, 1]])],\n",
    "                 [20, 9, np.array([[0, 0], [0, 1], [1, 1], [1, 2]])],\n",
    "                 [21, 9, np.array([[0, 0], [1, 0], [1, -1], [2, -1]])]]\n",
    "\n",
    "def all_moves(num_squares):\n",
    "    moves = []\n",
    "    for i in range(num_squares):\n",
    "        for j in simple_pieces:\n",
    "            moves.append([i] + j)\n",
    "    return moves\n"
   ]
  },
  {
   "cell_type": "code",
   "execution_count": 10,
   "metadata": {},
   "outputs": [
    {
     "data": {
      "text/plain": [
       "[0, 2, 2, array([[0, 0],\n",
       "        [0, 1]])]"
      ]
     },
     "execution_count": 10,
     "metadata": {},
     "output_type": "execute_result"
    }
   ],
   "source": [
    "all_moves(100)[2]"
   ]
  },
  {
   "cell_type": "code",
   "execution_count": null,
   "metadata": {},
   "outputs": [],
   "source": []
  },
  {
   "cell_type": "code",
   "execution_count": null,
   "metadata": {},
   "outputs": [],
   "source": []
  }
 ],
 "metadata": {
  "kernelspec": {
   "display_name": "Python 3",
   "language": "python",
   "name": "python3"
  },
  "language_info": {
   "codemirror_mode": {
    "name": "ipython",
    "version": 3
   },
   "file_extension": ".py",
   "mimetype": "text/x-python",
   "name": "python",
   "nbconvert_exporter": "python",
   "pygments_lexer": "ipython3",
   "version": "3.6.13"
  }
 },
 "nbformat": 4,
 "nbformat_minor": 4
}
